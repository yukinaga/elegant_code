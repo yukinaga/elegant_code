{
  "nbformat": 4,
  "nbformat_minor": 0,
  "metadata": {
    "colab": {
      "provenance": [],
      "authorship_tag": "ABX9TyOw5e+7i9wv15NHedoslxis",
      "include_colab_link": true
    },
    "kernelspec": {
      "name": "python3",
      "display_name": "Python 3"
    },
    "language_info": {
      "name": "python"
    }
  },
  "cells": [
    {
      "cell_type": "markdown",
      "metadata": {
        "id": "view-in-github",
        "colab_type": "text"
      },
      "source": [
        "<a href=\"https://colab.research.google.com/github/yukinaga/elegant_code/blob/main/section_3/02_comment.ipynb\" target=\"_parent\"><img src=\"https://colab.research.google.com/assets/colab-badge.svg\" alt=\"Open In Colab\"/></a>"
      ]
    },
    {
      "cell_type": "markdown",
      "source": [
        "# コメントの書き方\n",
        "他者がコードを見た際に、素早く正確に理解できるように適切なコメントを書く習慣を身につけましょう。  \n",
        "明日の自分は他人です。"
      ],
      "metadata": {
        "id": "8YyK4iFi42fT"
      }
    },
    {
      "cell_type": "markdown",
      "source": [
        "## コメントを書くべき場合\n",
        "前提として、コード自体を読みやすく書くことが重要です。  \n",
        "「文章のように読めるコード」を意識して書きましょう。  \n",
        "その上で、コードから読み取れない情報をコメントとして記述しましょう。  "
      ],
      "metadata": {
        "id": "5jmz1sUDi9rw"
      }
    },
    {
      "cell_type": "markdown",
      "source": [
        "実装の背景にある考えをコードから読み取るのは難しいので、コメントに書きましょう。"
      ],
      "metadata": {
        "id": "MFnyPyYjjB0A"
      }
    },
    {
      "cell_type": "code",
      "execution_count": null,
      "metadata": {
        "id": "k_pnk7M1iXjl"
      },
      "outputs": [],
      "source": [
        "import torchvision.models as models\n",
        "\n",
        "net = models.vit_b_16(pretrained=True)  # 論文...を参考に、Vision Transformerを使用"
      ]
    },
    {
      "cell_type": "markdown",
      "source": [
        "ドキュメントとの関連付けについても必要に応じてコメントに書きましょう。"
      ],
      "metadata": {
        "id": "rbrSZ-apj23K"
      }
    },
    {
      "cell_type": "code",
      "source": [
        "import torch.nn as nn\n",
        "\n",
        "for param in net.parameters():\n",
        "    param.requires_grad = False\n",
        "\n",
        "net.heads[0] = nn.Linear(768, 10)  # 設計書2-3節に依る"
      ],
      "metadata": {
        "id": "FwftWKxSl2vB"
      },
      "execution_count": null,
      "outputs": []
    },
    {
      "cell_type": "markdown",
      "source": [
        "処理ブロックの先頭にコメントを書くと、コード全体の可読性が向上します。"
      ],
      "metadata": {
        "id": "AM6BRnoopR6z"
      }
    },
    {
      "cell_type": "code",
      "source": [
        "from torchvision.datasets import CIFAR10\n",
        "import torchvision.transforms as transforms\n",
        "from torch.utils.data import DataLoader\n",
        "\n",
        "# データ拡張の設定\n",
        "transform = transforms.Compose([\n",
        "    transforms.Resize(256),\n",
        "    transforms.CenterCrop(224),\n",
        "    transforms.ToTensor(),\n",
        "    transforms.Normalize(mean=[0.485, 0.456, 0.406], std=[0.229, 0.224, 0.225]),\n",
        "])\n",
        "\n",
        "# 読み込むデータセットの設定\n",
        "cifar10_train = CIFAR10(\"./data\", train=True, download=True, transform=transform)\n",
        "cifar10_test = CIFAR10(\"./data\", train=False, download=True, transform=transform)\n",
        "\n",
        "# DataLoaderの設定\n",
        "batch_size = 64\n",
        "train_loader = DataLoader(cifar10_train, batch_size=batch_size, shuffle=True)\n",
        "test_loader = DataLoader(cifar10_test, batch_size=batch_size, shuffle=False)"
      ],
      "metadata": {
        "id": "8COC5s1JpYiL"
      },
      "execution_count": null,
      "outputs": []
    },
    {
      "cell_type": "markdown",
      "source": [
        "コメントは、可能な限り簡潔に書きましょう。  \n",
        "また、コードを変更する際は、それに応じてコメントも変更することを忘れないようにしましょう。"
      ],
      "metadata": {
        "id": "9p7F3yKiiw3T"
      }
    },
    {
      "cell_type": "markdown",
      "source": [
        "## コメントを書くべきでない場合\n",
        "コメントは必要な箇所のみに書きましょう。  \n",
        "コメントが多すぎると、かえってコードの可読性は低下してしまいます。"
      ],
      "metadata": {
        "id": "px_nbguOmpzN"
      }
    },
    {
      "cell_type": "markdown",
      "source": [
        "コードを見たら分かる内容については、コメントを書く必要はありません。  \n",
        "以下のコードは、変数名や演算子から処理内容が分かるのでコメントを書く必要はありません。  "
      ],
      "metadata": {
        "id": "xUCE9KL_nxwX"
      }
    },
    {
      "cell_type": "code",
      "source": [
        "min = 0  # 最小値\n",
        "max = len(data)-1  # 最大値\n",
        "\n",
        "while min <= max:  # 最小値が最大値以下である間\n",
        "    center = (min+max) // 2  # 最小値と最大値の中央\n",
        "    # ..."
      ],
      "metadata": {
        "id": "j0PqprDvn5r4"
      },
      "execution_count": null,
      "outputs": []
    },
    {
      "cell_type": "markdown",
      "source": [
        "コメントは、可能な限り「コード化」してしまいましょう。  \n",
        "ただし、教育を目的としたコードでは解説文のコメントを多めに書くこともあります。"
      ],
      "metadata": {
        "id": "IDJURIaGoqT6"
      }
    }
  ]
}