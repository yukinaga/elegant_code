{
  "nbformat": 4,
  "nbformat_minor": 0,
  "metadata": {
    "colab": {
      "provenance": [],
      "authorship_tag": "ABX9TyPKVnc7C3mg9LUxIY9mZzkb",
      "include_colab_link": true
    },
    "kernelspec": {
      "name": "python3",
      "display_name": "Python 3"
    },
    "language_info": {
      "name": "python"
    }
  },
  "cells": [
    {
      "cell_type": "markdown",
      "metadata": {
        "id": "view-in-github",
        "colab_type": "text"
      },
      "source": [
        "<a href=\"https://colab.research.google.com/github/yukinaga/elegant_code/blob/main/section_3/01_variable_name.ipynb\" target=\"_parent\"><img src=\"https://colab.research.google.com/assets/colab-badge.svg\" alt=\"Open In Colab\"/></a>"
      ]
    },
    {
      "cell_type": "markdown",
      "source": [
        "# 変数、関数名の考え方\n",
        "変数名や関数名は、その名前だけで何を表すのか、何を実行するのかが一目瞭然になるようにしましょう。"
      ],
      "metadata": {
        "id": "vwklYnNi4vAQ"
      }
    },
    {
      "cell_type": "markdown",
      "source": [
        "## 変数に「意味」を持たせる\n",
        "以下の例のように、`a`、`b`などの意味を持たない変数名は可能な限り避けましょう。"
      ],
      "metadata": {
        "id": "8EmIuxUB_DD_"
      }
    },
    {
      "cell_type": "code",
      "source": [
        "a = 21\n",
        "b = True\n",
        "foo = \"defallult_name\""
      ],
      "metadata": {
        "id": "v7DVqhKnAsYu"
      },
      "execution_count": null,
      "outputs": []
    },
    {
      "cell_type": "markdown",
      "source": [
        "変数が何を表すのか、変数名からなるべく分かるようにしましょう。\n",
        "\n"
      ],
      "metadata": {
        "id": "9zeDbbDT859K"
      }
    },
    {
      "cell_type": "code",
      "execution_count": null,
      "metadata": {
        "id": "CadPdyqfiS5X"
      },
      "outputs": [],
      "source": [
        "user_age = 21\n",
        "is_registered = True\n",
        "user_name = \"defallult_name\""
      ]
    },
    {
      "cell_type": "markdown",
      "source": [
        "しかしながら、一時的に狭い範囲でに使われる変数であれば、`i`、`j`、`k`、`tmp`などの意味のない変数名を使っても大丈夫です。  \n",
        "以下は、Pythonによる「線形探索」の実装ですが、狭い範囲で変数`i`が使われています。  \n",
        "線形探索は、データの先頭から終端に向かって目的の要素を探し出すアルゴリズムです。  "
      ],
      "metadata": {
        "id": "9WvwFHtlbdzM"
      }
    },
    {
      "cell_type": "code",
      "metadata": {
        "id": "CaEQk3goz8jC",
        "colab": {
          "base_uri": "https://localhost:8080/"
        },
        "outputId": "e1db2e66-bf4f-4196-9923-d2bd780499b1"
      },
      "source": [
        "def linear_search(numbers, target):\n",
        "    for i in range(0, len(numbers)):\n",
        "        if numbers[i] == target:  # 一致している場合\n",
        "            return i  # インデックスを返す\n",
        "    return None  # 1回も一致しなかった場合Noneを返す\n",
        "\n",
        "numbers = [3, 5, 8, 2, 7, 1, 4, 9, 6]  # 探索対象\n",
        "target = 4  # 探索したい値\n",
        "print(\"一致した要素のインデックス: \", linear_search(numbers, target))"
      ],
      "execution_count": 4,
      "outputs": [
        {
          "output_type": "stream",
          "name": "stdout",
          "text": [
            "一致した要素のインデックス:  6\n"
          ]
        }
      ]
    },
    {
      "cell_type": "markdown",
      "source": [
        "また、昔からある`tmp`という変数名も、一時的な使用であるならば問題ありません。  \n",
        "以下は`top`と`bottom`の値を交換するコードです。  "
      ],
      "metadata": {
        "id": "OTj-NYCaH3qD"
      }
    },
    {
      "cell_type": "code",
      "source": [
        "if top < bottom:\n",
        "    tmp = top\n",
        "    top = bottom\n",
        "    bottom = tmp"
      ],
      "metadata": {
        "id": "g1EVTDRhIB_A"
      },
      "execution_count": null,
      "outputs": []
    },
    {
      "cell_type": "markdown",
      "source": [
        "## 誤解を与えない関数名\n",
        "以下の関数名`filter`は、指定した範囲を取り出すのか、除外するか分かりません。  "
      ],
      "metadata": {
        "id": "uX5u6ozfCTFv"
      }
    },
    {
      "cell_type": "code",
      "source": [
        "def filter(min, max):\n",
        "    # do something\n",
        "    # ...\n",
        "    pass"
      ],
      "metadata": {
        "id": "gA2a4BolYPeP"
      },
      "execution_count": 2,
      "outputs": []
    },
    {
      "cell_type": "markdown",
      "source": [
        "関数名には、行う処理を明確に表す名前を付けましょう。  \n",
        "以下では、関数に`select`および`exclude`という名前を付けています。  \n",
        "これにより、指定した範囲を取り出すか、除外するかが明確になります。  "
      ],
      "metadata": {
        "id": "HwznT3TPaNue"
      }
    },
    {
      "cell_type": "code",
      "source": [
        "def select(min, max):\n",
        "    # ...\n",
        "    pass\n",
        "\n",
        "def exclude(min, max):\n",
        "    # ...\n",
        "    pass"
      ],
      "metadata": {
        "id": "Fgho3IQHbBKQ"
      },
      "execution_count": null,
      "outputs": []
    }
  ]
}