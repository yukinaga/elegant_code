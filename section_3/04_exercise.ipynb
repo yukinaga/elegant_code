{
  "nbformat": 4,
  "nbformat_minor": 0,
  "metadata": {
    "colab": {
      "provenance": [],
      "authorship_tag": "ABX9TyNil/OJRiN0KhYD84B+m6O5",
      "include_colab_link": true
    },
    "kernelspec": {
      "name": "python3",
      "display_name": "Python 3"
    },
    "language_info": {
      "name": "python"
    }
  },
  "cells": [
    {
      "cell_type": "markdown",
      "metadata": {
        "id": "view-in-github",
        "colab_type": "text"
      },
      "source": [
        "<a href=\"https://colab.research.google.com/github/yukinaga/elegant_code/blob/main/section_3/04_exercise.ipynb\" target=\"_parent\"><img src=\"https://colab.research.google.com/assets/colab-badge.svg\" alt=\"Open In Colab\"/></a>"
      ]
    },
    {
      "cell_type": "markdown",
      "source": [
        "# 演習\n",
        "変数や関数の名前に「意味」を持たせ、コードを読みやすくしましょう。"
      ],
      "metadata": {
        "id": "QuMo2pFp4_4p"
      }
    },
    {
      "cell_type": "markdown",
      "source": [
        "## 変数、関数名の設定\n",
        "以下のユーザーを表すクラスを使用します。"
      ],
      "metadata": {
        "id": "lTqFZeT7wR1_"
      }
    },
    {
      "cell_type": "code",
      "source": [
        "class User:\n",
        "    def __init__(self, name, age):\n",
        "        self.name = name\n",
        "        self.age =age"
      ],
      "metadata": {
        "id": "thrf-T-9BH9G"
      },
      "execution_count": null,
      "outputs": []
    },
    {
      "cell_type": "markdown",
      "source": [
        "以下のコードは、意味の無い変数名、関数名を使っているために可読性が低くなっています。  \n",
        "これらを、意味を持つものに変更しましょう。  "
      ],
      "metadata": {
        "id": "WjdnWJHCpUxB"
      }
    },
    {
      "cell_type": "code",
      "execution_count": null,
      "metadata": {
        "id": "EwXnE1MFieur"
      },
      "outputs": [],
      "source": [
        "def name_func(a, b):\n",
        "\n",
        "    if a is None:\n",
        "        return None  # サブの流れ\n",
        "    \n",
        "    if b is None:\n",
        "        return None  # サブの流れ\n",
        "\n",
        "    c = User(a, b)\n",
        "    if c is None:\n",
        "        return None  # サブの流れ\n",
        "\n",
        "    return c\n",
        "\n",
        "d = name_func(\"Hanako\", 24)\n",
        "print(\"Name:\", d.name, \"Age:\", d.age)"
      ]
    },
    {
      "cell_type": "markdown",
      "source": [
        "## 解答例\n",
        "以下は解答例です。"
      ],
      "metadata": {
        "id": "NjyRFpuzDLtG"
      }
    },
    {
      "cell_type": "code",
      "source": [
        "def set_user(name, age):\n",
        "\n",
        "    if name is None:\n",
        "        return None  # サブの流れ\n",
        "    \n",
        "    if age is None:\n",
        "        return None  # サブの流れ\n",
        "\n",
        "    user = User(name, age)\n",
        "    if user is None:\n",
        "        return None  # サブの流れ\n",
        "\n",
        "    return user\n",
        "\n",
        "user = set_user(\"Hanako\", 24)\n",
        "print(\"Name:\", user.name, \"Age:\", user.age)"
      ],
      "metadata": {
        "id": "3iuuHKU8DOUo"
      },
      "execution_count": null,
      "outputs": []
    }
  ]
}