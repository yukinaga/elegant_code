{
  "nbformat": 4,
  "nbformat_minor": 0,
  "metadata": {
    "colab": {
      "provenance": [],
      "authorship_tag": "ABX9TyP5fkMPX0QdqdGDM1qNEuoq",
      "include_colab_link": true
    },
    "kernelspec": {
      "name": "python3",
      "display_name": "Python 3"
    },
    "language_info": {
      "name": "python"
    }
  },
  "cells": [
    {
      "cell_type": "markdown",
      "metadata": {
        "id": "view-in-github",
        "colab_type": "text"
      },
      "source": [
        "<a href=\"https://colab.research.google.com/github/yukinaga/elegant_code/blob/main/section_3/03_beautiful_code.ipynb\" target=\"_parent\"><img src=\"https://colab.research.google.com/assets/colab-badge.svg\" alt=\"Open In Colab\"/></a>"
      ]
    },
    {
      "cell_type": "markdown",
      "source": [
        "# コードを「美しく」保つ\n",
        "コード全体を整理整頓し、ロジックをシンプルで美しく保ちましょう。 "
      ],
      "metadata": {
        "id": "ub6296o746oH"
      }
    },
    {
      "cell_type": "markdown",
      "source": [
        "## コードの整理整頓\n",
        "空白、空行などの処理とは直接関係の無い要素を挿入することで、コードの見通しを良くすることができます。"
      ],
      "metadata": {
        "id": "kDDO038nsKPY"
      }
    },
    {
      "cell_type": "markdown",
      "source": [
        "コードに適切に空行を挿入し、処理ブロックごとに分けましょう。"
      ],
      "metadata": {
        "id": "owbn4bSQsmo3"
      }
    },
    {
      "cell_type": "code",
      "execution_count": null,
      "metadata": {
        "id": "msw6OvHEibvn"
      },
      "outputs": [],
      "source": [
        "# Age\n",
        "age_mean = train_data[\"Age\"].mean()  # 平均値\n",
        "train_data[\"Age\"] = train_data[\"Age\"].fillna(age_mean)\n",
        "test_data[\"Age\"] = test_data[\"Age\"].fillna(age_mean)\n",
        "\n",
        "# Fare\n",
        "fare_mean = train_data[\"Fare\"].mean()  # 平均値\n",
        "train_data[\"Fare\"] = train_data[\"Fare\"].fillna(fare_mean)\n",
        "test_data[\"Fare\"] = test_data[\"Fare\"].fillna(fare_mean)\n",
        "\n",
        "# Embarked\n",
        "embarked_mode = train_data[\"Embarked\"].mode()  # 最頻値\n",
        "train_data[\"Embarked\"] = train_data[\"Embarked\"].fillna(embarked_mode)\n",
        "test_data[\"Embarked\"] = test_data[\"Embarked\"].fillna(embarked_mode)"
      ]
    },
    {
      "cell_type": "markdown",
      "source": [
        "行内では適切に空白を挿入し、変数や演算子を明確にしましょう。  "
      ],
      "metadata": {
        "id": "0hTM9kJYtH9s"
      }
    },
    {
      "cell_type": "code",
      "source": [
        "from sklearn.ensemble import RandomForestClassifier\n",
        "\n",
        "model = RandomForestClassifier(n_estimators=100, max_depth=5)\n",
        "model = model.fit(x_train, t_train)"
      ],
      "metadata": {
        "id": "j3csIlFTtIJM"
      },
      "execution_count": null,
      "outputs": []
    },
    {
      "cell_type": "markdown",
      "source": [
        "関数は目的ごとに設定するようにしましょう。  \n",
        "一つの関数に複数の目的を持たせないように注意しましょう。"
      ],
      "metadata": {
        "id": "Kug6WQeqvL3w"
      }
    },
    {
      "cell_type": "code",
      "source": [
        "def get_user_name(user):\n",
        "    # ...\n",
        "    return user_name\n",
        "\n",
        "def get_user_age(user):\n",
        "    # ...\n",
        "    return user_age\n",
        "\n",
        "def get_user_info(user):\n",
        "    return {\n",
        "        \"name\": get_user_name(user),\n",
        "        \"age\": get_user_age(user)\n",
        "    }\n"
      ],
      "metadata": {
        "id": "iu91OGYFwPjo"
      },
      "execution_count": null,
      "outputs": []
    },
    {
      "cell_type": "markdown",
      "source": [
        "## グローバル変数を避ける\n",
        "グローバル変数の使用は、コードの意図しない挙動につながるため極力避けましょう。  \n"
      ],
      "metadata": {
        "id": "gROvwATV195N"
      }
    },
    {
      "cell_type": "markdown",
      "metadata": {
        "id": "DtAbWNWw-m3y"
      },
      "source": [
        "関数内で定義された変数がローカル変数、関数外で定義された変数がグローバル変数です。  "
      ]
    },
    {
      "cell_type": "code",
      "metadata": {
        "id": "3pD2XU7t-m3y"
      },
      "source": [
        "glob_1 = 123  # グローバル変数\n",
        "\n",
        "def show_number():\n",
        "    loc_1 = 456  # ローカル変数\n",
        "    print(glob_1, loc_1)\n",
        "    \n",
        "show_number()"
      ],
      "execution_count": null,
      "outputs": []
    },
    {
      "cell_type": "markdown",
      "metadata": {
        "id": "j4BL7N5d-m30"
      },
      "source": [
        "ローカル変数は同じ関数内からのみアクセスできますが、グローバル変数はどこからでもアクセスできます。  \n",
        "\n",
        "以下のコードでは、関数の外でローカル変数loc_2にアクセスしようとしているため、エラーが発生します。  \n",
        "そのため`loc_2`が意図しない箇所で使われるリスクは小さいですが、グローバル変数を使ってしまうと不具合を想定しなければいけない範囲がとても広くなってしまいます。"
      ]
    },
    {
      "cell_type": "code",
      "metadata": {
        "id": "7KOGz1gM-m31"
      },
      "source": [
        "glob_2= 123 # グローバル変数\n",
        "\n",
        "def setNum():\n",
        "    loc_2 = 456 # ローカル変数\n",
        "\n",
        "setNum()\n",
        "print(glob_2, loc_2)"
      ],
      "execution_count": null,
      "outputs": []
    },
    {
      "cell_type": "markdown",
      "source": [
        "## 「自己満」に注意しよう\n",
        "高い技術力の誇示、それ自体を目的にするのは避けましょう。  \n"
      ],
      "metadata": {
        "id": "5DzG1sOS4uf4"
      }
    },
    {
      "cell_type": "markdown",
      "source": [
        "以下は、いわゆる「Fizz Buzz」のコードです。  \n",
        "1から100までの数を順番に処理するのですが、3と5の共通の倍数であればFizzBuzzと、そうではなくて3の倍数であればFizzと、5の倍数であればBuzzと表示します。  \n",
        "そして、これらのどれも満たさなければ数字をそのまま表示します。 "
      ],
      "metadata": {
        "id": "zp-iXEFX6MCK"
      }
    },
    {
      "cell_type": "code",
      "source": [
        "def fizz_buzz(max):\n",
        "    for i in range(1, max+1):\n",
        "\n",
        "        mod_3 = i % 3\n",
        "        mod_5 = i % 5\n",
        "\n",
        "        if mod_3==0 and mod_5==0:\n",
        "            print(\"FizzBuzz\")\n",
        "            continue \n",
        "\n",
        "        if mod_3==0:\n",
        "            print(\"Fizz\")\n",
        "            continue \n",
        "\n",
        "        if mod_5==0:\n",
        "            print(\"Buzz\")\n",
        "            continue \n",
        "\n",
        "        print(str(i))\n",
        "\n",
        "fizz_buzz(100)"
      ],
      "metadata": {
        "id": "oV2d4tXw6i3R"
      },
      "execution_count": null,
      "outputs": []
    },
    {
      "cell_type": "markdown",
      "source": [
        "同じ処理を、一行で書くこともできます。  "
      ],
      "metadata": {
        "id": "K-JKRfLY7SCY"
      }
    },
    {
      "cell_type": "code",
      "source": [
        "print(*(\"Fizz\" * (not i%3) + \"Buzz\" * (not i%5) or str(i) for i in range(1, 101)), sep=\"\\n\")"
      ],
      "metadata": {
        "id": "B8XsrpyC7SOc"
      },
      "execution_count": null,
      "outputs": []
    },
    {
      "cell_type": "markdown",
      "source": [
        "このようなコードは行の節約にはなりますが、読みやすくはありません。  \n",
        "初心者が書いたように見えるコードが、複雑なコードよりも優れているケースは多々有ります。  "
      ],
      "metadata": {
        "id": "B3-R9GxT7mrr"
      }
    }
  ]
}