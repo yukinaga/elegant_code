{
  "nbformat": 4,
  "nbformat_minor": 0,
  "metadata": {
    "colab": {
      "provenance": [],
      "authorship_tag": "ABX9TyOstaBLWd1Fjno8P6kdKyRH",
      "include_colab_link": true
    },
    "kernelspec": {
      "name": "python3",
      "display_name": "Python 3"
    },
    "language_info": {
      "name": "python"
    }
  },
  "cells": [
    {
      "cell_type": "markdown",
      "metadata": {
        "id": "view-in-github",
        "colab_type": "text"
      },
      "source": [
        "<a href=\"https://colab.research.google.com/github/yukinaga/elegant_code/blob/main/section_4/01_abstraction.ipynb\" target=\"_parent\"><img src=\"https://colab.research.google.com/assets/colab-badge.svg\" alt=\"Open In Colab\"/></a>"
      ]
    },
    {
      "cell_type": "markdown",
      "source": [
        "# コードの適切な抽象化\n",
        "適切な抽象化により、問題の本質をシンプルに捉えたコードを記述しましょう。  \n",
        "コードの可読性と生産性を、適切な抽象化により大きく伸ばしましょう。"
      ],
      "metadata": {
        "id": "4Z2ehZA50jwc"
      }
    },
    {
      "cell_type": "markdown",
      "source": [
        "## 抽象化が不十分なコード\n",
        "以下はペットを扱うコードですが、適切に抽象化されていないため美しくないコードです。  \n",
        "グローバル変数が使われているため変数のスコープが広く、クラスを利用した変数のグルーピングが行われていません。  \n",
        "また、コードの再利用が難しく、ペットが複数いる場合コードの複雑な改修が必要になります。  "
      ],
      "metadata": {
        "id": "uthqQwKG5nUh"
      }
    },
    {
      "cell_type": "code",
      "execution_count": null,
      "metadata": {
        "id": "DBKKEa7bj346"
      },
      "outputs": [],
      "source": [
        "pet_name = None\n",
        "animal_type = None\n",
        "pet_age = 0\n",
        "\n",
        "def main():\n",
        "    global pet_name, animal_type, pet_age\n",
        "\n",
        "    pet_name = \"Hachi\"\n",
        "    animal_type = \"dog\"\n",
        "    pet_age = 6\n",
        "\n",
        "    if pet_age <= 1:\n",
        "        print(pet_name+\" is a baby \"+animal_type+\". Handle with care.\")\n",
        "    else:\n",
        "        print(\"Name:\", pet_name)\n",
        "        print(\"Animal type:\", animal_type)\n",
        "        print(\"Age:\", pet_age)\n",
        "\n",
        "main()"
      ]
    },
    {
      "cell_type": "markdown",
      "source": [
        "## クラスの利用\n",
        "クラスを利用して変数をグルーピングします。  \n",
        "以下のコードは、`Pet`クラスを利用して3つの変数をまとめています。  "
      ],
      "metadata": {
        "id": "ycymiKx1Z2pd"
      }
    },
    {
      "cell_type": "code",
      "source": [
        "class Pet:\n",
        "    def __init__(self, name, animal_type, age):\n",
        "        self.name = name\n",
        "        self.animal_type = animal_type\n",
        "        self.age = age\n",
        "\n",
        "pet = Pet(\"Hachi\", \"dog\", 6)"
      ],
      "metadata": {
        "id": "OXxtLfQZA60-"
      },
      "execution_count": null,
      "outputs": []
    },
    {
      "cell_type": "markdown",
      "source": [
        "クラスからインスタンスを生成することで、ペットの数が増えても簡単に対応することができます。  \n",
        "また、以下のようにメソッドを使うことで処理をグルーピングし名前を付けることができます。  "
      ],
      "metadata": {
        "id": "EIvddI4gfefF"
      }
    },
    {
      "cell_type": "code",
      "source": [
        "class Pet:\n",
        "    # ...\n",
        "    def baby_care(self):\n",
        "        print(self.name+\" is a baby \"+self.animal_type+\". Handle with care.\")\n",
        "\n",
        "    def show(self):\n",
        "        print(\"Name:\", self.name)\n",
        "        print(\"Animal type:\", self.animal_type)\n",
        "        print(\"Age:\", self.age)\n",
        "    # ..."
      ],
      "metadata": {
        "id": "7uqLFQb1hqod"
      },
      "execution_count": null,
      "outputs": []
    },
    {
      "cell_type": "markdown",
      "source": [
        "メソッドにまとめることで、処理を好きなときに何度でも呼び出すことが可能になります。  "
      ],
      "metadata": {
        "id": "4fRzrDYVh34M"
      }
    },
    {
      "cell_type": "markdown",
      "source": [
        "## 十分に抽象化されたコード\n",
        "以下は、以上に基づき適切に抽象化されたコードです。  \n",
        "変数や処理をクラスにまとめることで、複数のペットに対応可能になり、コードの補修が簡単になります。  \n",
        "また、処理がメソッドに分割されてそれぞれに名前が付いているので、各所で何の処理を行うのかが明白です。  "
      ],
      "metadata": {
        "id": "y_S7Ap8KjNx1"
      }
    },
    {
      "cell_type": "code",
      "source": [
        "# ペットを扱うクラス\n",
        "class Pet:\n",
        "    def __init__(self, name, animal_type, age):\n",
        "        self.name = name\n",
        "        self.animal_type = animal_type\n",
        "        self.age = age\n",
        "\n",
        "    def is_baby(self):\n",
        "        return self.age <= 1\n",
        "\n",
        "    def baby_care(self):\n",
        "        print(self.name+\" is a baby \"+self.animal_type+\". Handle with care.\")\n",
        "\n",
        "    def show(self):\n",
        "        print(\"Name:\", self.name)\n",
        "        print(\"Animal type:\", self.animal_type)\n",
        "        print(\"Age:\", self.age)\n",
        "\n",
        "# メインの処理\n",
        "def main():\n",
        "    pet = Pet(\"Hachi\", \"dog\", 6)\n",
        "\n",
        "    if pet.is_baby():\n",
        "        pet.baby_care()\n",
        "    else:\n",
        "        pet.show()\n",
        "\n",
        "main()"
      ],
      "metadata": {
        "id": "W7OUeb-bA7Iy"
      },
      "execution_count": null,
      "outputs": []
    },
    {
      "cell_type": "markdown",
      "source": [
        "抽象化は、やりすぎるとかえって読みにくくなることもあるのでご注意ください。  "
      ],
      "metadata": {
        "id": "5Z4bBQtxk9B9"
      }
    }
  ]
}