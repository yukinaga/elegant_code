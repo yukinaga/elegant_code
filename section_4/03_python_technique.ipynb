{
  "nbformat": 4,
  "nbformat_minor": 0,
  "metadata": {
    "colab": {
      "provenance": [],
      "authorship_tag": "ABX9TyNwDqlRytzjisJ6/Mck8s1s",
      "include_colab_link": true
    },
    "kernelspec": {
      "name": "python3",
      "display_name": "Python 3"
    },
    "language_info": {
      "name": "python"
    }
  },
  "cells": [
    {
      "cell_type": "markdown",
      "metadata": {
        "id": "view-in-github",
        "colab_type": "text"
      },
      "source": [
        "<a href=\"https://colab.research.google.com/github/yukinaga/elegant_code/blob/main/section_4/03_python_technique.ipynb\" target=\"_parent\"><img src=\"https://colab.research.google.com/assets/colab-badge.svg\" alt=\"Open In Colab\"/></a>"
      ]
    },
    {
      "cell_type": "markdown",
      "source": [
        "# Pythonを読みやすくするテクニック\n",
        "Pythonが持つ、コードを読みやすくする様々な機能を紹介します。  "
      ],
      "metadata": {
        "id": "oK9-C_KkvY2T"
      }
    },
    {
      "cell_type": "markdown",
      "source": [
        "## アンパック\n",
        "アンパック（unpacking）により、複数の変数に一度に値を代入することが可能になります。  \n",
        "以下のコードは、複数の値を変数に代入する例です。  "
      ],
      "metadata": {
        "id": "gIlA71irveNg"
      }
    },
    {
      "cell_type": "code",
      "source": [
        "name = \"Taro\"\n",
        "place = \"Tokyo\"\n",
        "age = 25\n",
        "\n",
        "print(name, \":\", place, \":\", age)"
      ],
      "metadata": {
        "id": "ulTaXYsYy69k"
      },
      "execution_count": null,
      "outputs": []
    },
    {
      "cell_type": "markdown",
      "source": [
        "このコードの変数に代入する箇所は、Pythonのアンパックにより一行にまとめることができます。  "
      ],
      "metadata": {
        "id": "UX6KfVzbzPs5"
      }
    },
    {
      "cell_type": "code",
      "execution_count": null,
      "metadata": {
        "id": "WQ9qqQeCj7Pc"
      },
      "outputs": [],
      "source": [
        "name, place, age = \"Taro\", \"Tokyo\", 25\n",
        "\n",
        "print(name, \":\", place, \":\", age)"
      ]
    },
    {
      "cell_type": "markdown",
      "source": [
        "アンパックは、リストやタプルから行うことも可能です。  \n",
        "以下はリストを使った例です。  "
      ],
      "metadata": {
        "id": "w75S-lAqzha-"
      }
    },
    {
      "cell_type": "code",
      "source": [
        "name, place, age = [\"Taro\", \"Tokyo\", 25]\n",
        "\n",
        "print(name, \":\", place, \":\", age)"
      ],
      "metadata": {
        "id": "aMgPyg0rzyw7"
      },
      "execution_count": null,
      "outputs": []
    },
    {
      "cell_type": "markdown",
      "source": [
        "以下はタプルを使った例です。  "
      ],
      "metadata": {
        "id": "rhj4_6032GBY"
      }
    },
    {
      "cell_type": "code",
      "source": [
        "name, place, age = (\"Taro\", \"Tokyo\", 25)\n",
        "\n",
        "print(name, \":\", place, \":\", age)"
      ],
      "metadata": {
        "id": "fwBZfuSUzy5A"
      },
      "execution_count": null,
      "outputs": []
    },
    {
      "cell_type": "markdown",
      "source": [
        "また、`*`が付いた変数には、他に割り当てられていない値がまとめて入ります。  "
      ],
      "metadata": {
        "id": "CinnnL6e2Jt-"
      }
    },
    {
      "cell_type": "code",
      "source": [
        "name, *place, age = (\"Taro\", \"Tokyo\", \"Japan\", 25)\n",
        "\n",
        "print(name, \":\", age, \":\", place)"
      ],
      "metadata": {
        "id": "rbL5bTKt0sPv"
      },
      "execution_count": null,
      "outputs": []
    },
    {
      "cell_type": "markdown",
      "source": [
        "以上のように、アンパックは変数への代入を美しくまとめることを可能にします。"
      ],
      "metadata": {
        "id": "4JYUkWfp2Vrt"
      }
    },
    {
      "cell_type": "markdown",
      "source": [
        "## 比較演算のチェーン\n",
        "Pythonでは、以下のように`and`を使って比較演算をつなぐことができます。  "
      ],
      "metadata": {
        "id": "E5J5ydVqv23K"
      }
    },
    {
      "cell_type": "code",
      "source": [
        "num = 4\n",
        "\n",
        "print(num>3 and num<6)"
      ],
      "metadata": {
        "id": "850TX3htxTHI"
      },
      "execution_count": null,
      "outputs": []
    },
    {
      "cell_type": "markdown",
      "source": [
        "上記のコードは、以下のように比較演算をチェーンさせることで短く表記することができます。"
      ],
      "metadata": {
        "id": "dlt-6DZi6ueZ"
      }
    },
    {
      "cell_type": "code",
      "source": [
        "num = 4\n",
        "\n",
        "print(3 < num <6)"
      ],
      "metadata": {
        "id": "FW36ZURD68Op"
      },
      "execution_count": null,
      "outputs": []
    },
    {
      "cell_type": "markdown",
      "source": [
        "比較演算のチェーンは、ある範囲に値があるかどうか判定する際に有用です。"
      ],
      "metadata": {
        "id": "LbULkk0e7FfX"
      }
    },
    {
      "cell_type": "markdown",
      "source": [
        "## 型ヒント\n",
        "Python3.5から「型ヒント」（Type Hints）が導入されました。  \n",
        "Pythonでは変数の型を宣言する必要はありませんが、型ヒントにより型の記述が可能になります。  "
      ],
      "metadata": {
        "id": "TPn-y6gjxSlk"
      }
    },
    {
      "cell_type": "markdown",
      "source": [
        "以下は型ヒントの例です。"
      ],
      "metadata": {
        "id": "d-AvNRij8nob"
      }
    },
    {
      "cell_type": "code",
      "source": [
        "my_age: int = 25  # int型と記述\n",
        "\n",
        "def say_age(age: int) -> str:  # 引数はint型、返り値はstr型\n",
        "    return \"I'm \"+str(age)+\" years old!\"\n",
        "\n",
        "print(say_age(my_age))"
      ],
      "metadata": {
        "id": "JqvdpBamxT9U"
      },
      "execution_count": null,
      "outputs": []
    },
    {
      "cell_type": "markdown",
      "source": [
        "あくまで「ヒント」なので、型が違う値が入ってもエラーにならない点にご注意ください。"
      ],
      "metadata": {
        "id": "tgH6NxIN9-rp"
      }
    },
    {
      "cell_type": "code",
      "source": [
        "my_age: int = 25  # int型と記述\n",
        "\n",
        "def say_age(age: str) -> int:  # 引数はstr型、返り値はint型（間違い）\n",
        "    return \"I'm \"+str(age)+\" years old!\"\n",
        "\n",
        "print(say_age(my_age))"
      ],
      "metadata": {
        "id": "qwSH61qM9yJ9"
      },
      "execution_count": null,
      "outputs": []
    },
    {
      "cell_type": "markdown",
      "source": [
        "型ヒントにより、しばしばコードの可読性が大きく向上します。"
      ],
      "metadata": {
        "id": "vKksqUD7-Sd1"
      }
    }
  ]
}