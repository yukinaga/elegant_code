{
  "nbformat": 4,
  "nbformat_minor": 0,
  "metadata": {
    "colab": {
      "provenance": [],
      "authorship_tag": "ABX9TyNvwYSmyeXJPBL96t6O8fCC",
      "include_colab_link": true
    },
    "kernelspec": {
      "name": "python3",
      "display_name": "Python 3"
    },
    "language_info": {
      "name": "python"
    }
  },
  "cells": [
    {
      "cell_type": "markdown",
      "metadata": {
        "id": "view-in-github",
        "colab_type": "text"
      },
      "source": [
        "<a href=\"https://colab.research.google.com/github/yukinaga/elegant_code/blob/main/section_4/04_exercise.ipynb\" target=\"_parent\"><img src=\"https://colab.research.google.com/assets/colab-badge.svg\" alt=\"Open In Colab\"/></a>"
      ]
    },
    {
      "cell_type": "markdown",
      "source": [
        "# 演習\n",
        "十分に抽象化された、「美しいコード」　の記述にトライしましょう。"
      ],
      "metadata": {
        "id": "vHa4mWpb_KFI"
      }
    },
    {
      "cell_type": "markdown",
      "source": [
        "## 抽象化が不十分なコード\n",
        "以下はSNSのコードの一部ですが、適切に抽象化されていないため扱いにくいコードです。  "
      ],
      "metadata": {
        "id": "uthqQwKG5nUh"
      }
    },
    {
      "cell_type": "code",
      "execution_count": null,
      "metadata": {
        "id": "DBKKEa7bj346"
      },
      "outputs": [],
      "source": [
        "user_name = None\n",
        "user_age = 0\n",
        "user_place = None\n",
        "\n",
        "def main():\n",
        "    global user_name, user_age\n",
        "\n",
        "    user_name = \"Taro\"\n",
        "    user_age = 25\n",
        "    user_place = \"Tokyo\"\n",
        "\n",
        "    if user_age < 18:\n",
        "        print(\"Your age is \"+str(user_age)+\". You can't use this service.\")\n",
        "    else:\n",
        "        print(\"Name:\", user_name)\n",
        "        print(\"Age:\", user_age)\n",
        "        print(\"Place:\", user_place)\n",
        "\n",
        "main()"
      ]
    },
    {
      "cell_type": "markdown",
      "source": [
        "適切な抽象化を行い、読みやすく扱いやすいコードに修正しましょう。  \n",
        "以下のセルに、クラスを活用して十分に抽象化されたコードを記述してください。  "
      ],
      "metadata": {
        "id": "wNiOzYR6A74J"
      }
    },
    {
      "cell_type": "code",
      "source": [
        "# ------ 以下にコードを記述 ------\n",
        "\n",
        "\n",
        "\n",
        "\n",
        "\n",
        "\n",
        "\n",
        "\n",
        "\n",
        "\n",
        "\n",
        "\n",
        "\n",
        "\n",
        "\n",
        "\n",
        "\n",
        "\n",
        "\n",
        "\n",
        "\n",
        "\n",
        "\n",
        "\n",
        "\n",
        "\n",
        "\n"
      ],
      "metadata": {
        "id": "uDgDmmf8BWYE"
      },
      "execution_count": null,
      "outputs": []
    },
    {
      "cell_type": "markdown",
      "source": [
        "## 解答例\n",
        "以下は解答例です。    "
      ],
      "metadata": {
        "id": "y_S7Ap8KjNx1"
      }
    },
    {
      "cell_type": "code",
      "source": [
        "# 各ユーザーを扱うクラス\n",
        "class User:\n",
        "    def __init__(self, name, age, place):\n",
        "        self.name = name\n",
        "        self.age = age\n",
        "        self.place = place\n",
        "\n",
        "    def is_under18(self):\n",
        "        return self.age < 18\n",
        "\n",
        "    def caution_age(self):\n",
        "        print(\"Your age is \"+str(self.age)+\". You can't use this service.\")\n",
        "\n",
        "    def show(self):\n",
        "        print(\"Name:\", self.name)\n",
        "        print(\"Age:\", self.age)\n",
        "        print(\"Place:\", self.place)\n",
        "\n",
        "# メインの処理\n",
        "def main():\n",
        "    user = User(\"Taro\", 25, \"Tokyo\")\n",
        "\n",
        "    if user.is_under18():\n",
        "        user.caution_age()\n",
        "    else:\n",
        "        user.show()\n",
        "\n",
        "main()"
      ],
      "metadata": {
        "id": "W7OUeb-bA7Iy"
      },
      "execution_count": null,
      "outputs": []
    }
  ]
}